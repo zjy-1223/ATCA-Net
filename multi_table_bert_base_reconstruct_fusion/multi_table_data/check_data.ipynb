version https://git-lfs.github.com/spec/v1
oid sha256:6b85cd33c647d12a2078fac02a3776868e7741c1a8f06b9827b83a4d80bab5a9
size 2904
